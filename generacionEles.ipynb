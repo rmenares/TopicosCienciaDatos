{
 "cells": [
  {
   "cell_type": "code",
   "execution_count": 1,
   "metadata": {},
   "outputs": [],
   "source": [
    "import numpy as np\n",
    "import matplotlib.pyplot as plt\n",
    "import pandas as pd\n",
    "import statsmodels.api as sm\n",
    "import pandas as pd\n"
   ]
  },
  {
   "cell_type": "code",
   "execution_count": 2,
   "metadata": {},
   "outputs": [
    {
     "name": "stdout",
     "output_type": "stream",
     "text": [
      "  substation                 date  consumption\n",
      "0    AJAHUEL  2018-01-01 00:00:00   137.330840\n",
      "1    AJAHUEL  2018-01-01 01:00:00   124.045549\n",
      "2    AJAHUEL  2018-01-01 02:00:00   118.137811\n",
      "3    AJAHUEL  2018-01-01 03:00:00   107.899499\n",
      "4    AJAHUEL  2018-01-01 04:00:00   100.362069\n"
     ]
    }
   ],
   "source": [
    "df =pd.read_csv('C:/Users/rodri/OneDrive/Documentos/Proyectos Jupiter/TopicosCienciaDatos/train.csv')\n",
    "print(df.head())"
   ]
  },
  {
   "cell_type": "code",
   "execution_count": 3,
   "metadata": {},
   "outputs": [
    {
     "name": "stdout",
     "output_type": "stream",
     "text": [
      "['AJAHUEL' 'BUIN' 'CHENA' 'CNAVIA' 'ELSALTO' 'FLORIDA' 'LOSALME']\n"
     ]
    }
   ],
   "source": [
    "NomSub = df['substation'].unique()\n",
    "print(NomSub)\n"
   ]
  },
  {
   "cell_type": "code",
   "execution_count": 4,
   "metadata": {},
   "outputs": [],
   "source": [
    "dfs_AJAHUEL = df[df['substation'] == 'AJAHUEL']\n",
    "dfs_BUIN = df[df['substation'] == 'BUIN']\n",
    "dfs_CHENA = df[df['substation'] == 'CHENA']\n",
    "dfs_CNAVIA = df[df['substation'] == 'CNAVIA']\n",
    "dfs_ELSALTO = df[df['substation'] == 'ELSALTO']\n",
    "dfs_FLORIDA = df[df['substation'] == 'FLORIDA']\n",
    "dfs_LOSALME = df[df['substation'] == 'LOSALME']"
   ]
  },
  {
   "cell_type": "code",
   "execution_count": 5,
   "metadata": {},
   "outputs": [],
   "source": [
    "xJAhuel=dfs_AJAHUEL[\"date\"].to_numpy()\n",
    "yJahuel=dfs_AJAHUEL[\"consumption\"].to_numpy()"
   ]
  },
  {
   "cell_type": "code",
   "execution_count": null,
   "metadata": {},
   "outputs": [],
   "source": [
    "plt.title('Consumo Electrico Alto Jahuel')\n",
    "plt.xlabel('fecha Consumo')\n",
    "plt.ylabel('Nivel de Consumo')\n",
    "plt.plot(xJAhuel,yJahuel)"
   ]
  },
  {
   "cell_type": "code",
   "execution_count": 13,
   "metadata": {},
   "outputs": [],
   "source": [
    "xbuin=dfs_BUIN[\"date\"].to_numpy()\n",
    "ybuin = dfs_BUIN[\"consumption\"].to_numpy()"
   ]
  },
  {
   "cell_type": "code",
   "execution_count": null,
   "metadata": {},
   "outputs": [],
   "source": [
    "plt.title('Consumo Electrico Buin')\n",
    "plt.xlabel('fecha Consumo')\n",
    "plt.ylabel('Nivel de Consumo')\n",
    "plt.plot(xbuin,ybuin)"
   ]
  },
  {
   "cell_type": "code",
   "execution_count": 15,
   "metadata": {},
   "outputs": [],
   "source": [
    "xchena = dfs_CHENA[\"date\"].to_numpy()\n",
    "ychena = dfs_CHENA[\"consumption\"].to_numpy()"
   ]
  },
  {
   "cell_type": "code",
   "execution_count": null,
   "metadata": {},
   "outputs": [],
   "source": [
    "plt.title('Consumo Electrico Chena')\n",
    "plt.xlabel('fecha Consumo')\n",
    "plt.ylabel('Nivel de Consumo')\n",
    "plt.plot(xchena,ychena)"
   ]
  },
  {
   "cell_type": "code",
   "execution_count": null,
   "metadata": {},
   "outputs": [],
   "source": [
    "xcnavia = dfs_CNAVIA[\"date\"].to_numpy()\n",
    "ycnavia = dfs_CNAVIA[\"consumption\"].to_numpy()"
   ]
  },
  {
   "cell_type": "code",
   "execution_count": null,
   "metadata": {},
   "outputs": [],
   "source": [
    "plt.title('Consumo Electrico Cerro Navia')\n",
    "plt.xlabel('fecha Consumo')\n",
    "plt.ylabel('Nivel de Consumo')\n",
    "plt.plot(xcnavia,ycnavia)"
   ]
  },
  {
   "cell_type": "code",
   "execution_count": null,
   "metadata": {},
   "outputs": [],
   "source": [
    "xelsalto=dfs_ELSALTO[\"date\"].to_numpy()\n",
    "yelsalto = dfs_ELSALTO[\"consumption\"].to_numpy()"
   ]
  },
  {
   "cell_type": "code",
   "execution_count": null,
   "metadata": {},
   "outputs": [],
   "source": [
    "plt.title('Consumo Electrico El Salto')\n",
    "plt.xlabel('fecha Consumo')\n",
    "plt.ylabel('Nivel de Consumo')\n",
    "plt.plot(xelsalto,yelsalto)"
   ]
  },
  {
   "cell_type": "code",
   "execution_count": null,
   "metadata": {},
   "outputs": [],
   "source": [
    "xflorida = dfs_FLORIDA[\"date\"].to_numpy()\n",
    "yflorida = dfs_FLORIDA[\"consumption\"].to_numpy()"
   ]
  },
  {
   "cell_type": "code",
   "execution_count": null,
   "metadata": {},
   "outputs": [],
   "source": [
    "plt.title('Consumo Electrico La Florida')\n",
    "plt.xlabel('fecha Consumo')\n",
    "plt.ylabel('Nivel de Consumo')\n",
    "plt.plot(xflorida,yflorida)"
   ]
  },
  {
   "cell_type": "code",
   "execution_count": null,
   "metadata": {},
   "outputs": [],
   "source": [
    "xlosAlme = dfs_LOSALME[\"date\"].to_numpy()\n",
    "ylosAlme = dfs_LOSALME[\"consumption\"].to_numpy()"
   ]
  },
  {
   "cell_type": "code",
   "execution_count": null,
   "metadata": {},
   "outputs": [],
   "source": [
    "plt.title('Consumo Electrico Los Alme')\n",
    "plt.xlabel('fecha Consumo')\n",
    "plt.ylabel('Nivel de Consumo')\n",
    "plt.plot(xlosAlme,ylosAlme)"
   ]
  }
 ],
 "metadata": {
  "kernelspec": {
   "display_name": "Python 3",
   "language": "python",
   "name": "python3"
  },
  "language_info": {
   "codemirror_mode": {
    "name": "ipython",
    "version": 3
   },
   "file_extension": ".py",
   "mimetype": "text/x-python",
   "name": "python",
   "nbconvert_exporter": "python",
   "pygments_lexer": "ipython3",
   "version": "3.12.3"
  }
 },
 "nbformat": 4,
 "nbformat_minor": 2
}
